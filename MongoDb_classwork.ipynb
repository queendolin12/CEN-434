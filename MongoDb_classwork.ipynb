{
 "cells": [
  {
   "cell_type": "code",
   "execution_count": 1,
   "id": "a579d070-315e-4ef1-8cfb-d1fdb5940d70",
   "metadata": {},
   "outputs": [
    {
     "name": "stdout",
     "output_type": "stream",
     "text": [
      "[1 3 5 7 9]\n"
     ]
    }
   ],
   "source": [
    "import numpy as np\n",
    "a =[1,2,3,4,5]\n",
    "b =[0,1,2,3,4]\n",
    "a = np.array(a)\n",
    "b = np.array(b)\n",
    "print(a+b)"
   ]
  },
  {
   "cell_type": "code",
   "execution_count": 5,
   "id": "6b560743-bbb9-46df-8e52-782bf53e137b",
   "metadata": {},
   "outputs": [
    {
     "name": "stdout",
     "output_type": "stream",
     "text": [
      "['admin', 'config', 'local']\n"
     ]
    }
   ],
   "source": [
    "import pymongo\n",
    "\n",
    "myclient = pymongo.MongoClient(\"mongodb://localhost:27017/\")\n",
    "mydb = myclient[\"mydatabase\"]\n",
    "print( myclient.list_database_names())"
   ]
  },
  {
   "cell_type": "code",
   "execution_count": 7,
   "id": "8693f9cd-c0cf-4f35-99d2-0267f3178c28",
   "metadata": {},
   "outputs": [],
   "source": [
    "dblist = myclient.list_database_names()\n",
    "if \"mydatabase\" in dblist:\n",
    "    print(\"the database exist\")"
   ]
  },
  {
   "cell_type": "code",
   "execution_count": 9,
   "id": "06f93a65-63ac-4456-9bab-7a7e14dd342e",
   "metadata": {},
   "outputs": [],
   "source": [
    "#insert into\n",
    "\n",
    "mycol = mydb[\"students\"] #objects \n",
    "mydata = {\"name\": \"Queendolin\", \"roomno\": \"Dorcas A302\"}\n",
    "y = mycol.insert_one(mydata)"
   ]
  },
  {
   "cell_type": "code",
   "execution_count": 10,
   "id": "d409a0dc-b143-423d-a774-44c48f6bc88f",
   "metadata": {},
   "outputs": [
    {
     "name": "stdout",
     "output_type": "stream",
     "text": [
      "InsertOneResult(ObjectId('679352251f14804668b39cb7'), acknowledged=True)\n"
     ]
    }
   ],
   "source": [
    "print(y)"
   ]
  },
  {
   "cell_type": "code",
   "execution_count": 12,
   "id": "4f4c22a4-bf72-45ce-b2eb-51cfa4ba1102",
   "metadata": {},
   "outputs": [
    {
     "name": "stdout",
     "output_type": "stream",
     "text": [
      "[ObjectId('679353c21f14804668b39cbb'), ObjectId('679353c21f14804668b39cbc'), ObjectId('679353c21f14804668b39cbd')]\n"
     ]
    }
   ],
   "source": [
    "mydata2 = [{\"name\": \"Queendolin\", \"roomno\": \"Dorcas A302\"}, {\"name\": \"Genesis\", \"roomno\": \"Dorcas A302\"}, {\"name\": \"Chidera\", \"roomno\": \"Daniel A302\"}]\n",
    "\n",
    "z = mycol.insert_many(mydata2)\n",
    "print(z.inserted_ids)"
   ]
  },
  {
   "cell_type": "code",
   "execution_count": 13,
   "id": "5f410768-d31f-4551-85b4-9f6225931f25",
   "metadata": {},
   "outputs": [],
   "source": [
    "#how to insert multiple documents\n"
   ]
  },
  {
   "cell_type": "code",
   "execution_count": 16,
   "id": "dbb2bbd1-a46e-46b6-9b52-78489fb62edb",
   "metadata": {},
   "outputs": [
    {
     "name": "stdout",
     "output_type": "stream",
     "text": [
      "{'_id': ObjectId('679353a21f14804668b39cba'), 'name': 'Chidera', 'roomno': 'Daniel A302'}\n",
      "{'_id': ObjectId('679353c21f14804668b39cbd'), 'name': 'Chidera', 'roomno': 'Daniel A302'}\n"
     ]
    }
   ],
   "source": [
    "myquery = {\"name\": \"Chidera\"}\n",
    "myanswer = mycol.find(myquery)\n",
    "for n in myanswer:\n",
    "    print(n)"
   ]
  },
  {
   "cell_type": "code",
   "execution_count": 18,
   "id": "47aa6b72-eb2b-4bb2-a290-6cf5d5744f35",
   "metadata": {},
   "outputs": [
    {
     "name": "stdout",
     "output_type": "stream",
     "text": [
      "<pymongo.synchronous.cursor.Cursor object at 0x00000156B5A400B0>\n"
     ]
    }
   ],
   "source": [
    "myanswer1 = mycol.find({\"name\": \"Chidera\"})\n",
    "print(myanswer1)"
   ]
  },
  {
   "cell_type": "code",
   "execution_count": 21,
   "id": "50012f56-ac7a-4332-b768-dc91093d4fad",
   "metadata": {},
   "outputs": [
    {
     "name": "stdout",
     "output_type": "stream",
     "text": [
      "{'_id': ObjectId('679352251f14804668b39cb7'), 'name': 'Queendolin', 'roomno': 'Dorcas A302'}\n",
      "{'_id': ObjectId('679353a21f14804668b39cb8'), 'name': 'Queendolin', 'roomno': 'Dorcas A302'}\n",
      "{'_id': ObjectId('679353c21f14804668b39cbb'), 'name': 'Queendolin', 'roomno': 'Dorcas A302'}\n"
     ]
    }
   ],
   "source": [
    "myquery = {\"name\" : {\"$gt\": \"Q\"} }\n",
    "myans = mycol.find(myquery)\n",
    "for n in myans:\n",
    "    print(n)"
   ]
  },
  {
   "cell_type": "code",
   "execution_count": null,
   "id": "ed25a9c5-787c-4130-8cb3-cd3f7f075547",
   "metadata": {},
   "outputs": [],
   "source": []
  }
 ],
 "metadata": {
  "kernelspec": {
   "display_name": "Python 3 (ipykernel)",
   "language": "python",
   "name": "python3"
  },
  "language_info": {
   "codemirror_mode": {
    "name": "ipython",
    "version": 3
   },
   "file_extension": ".py",
   "mimetype": "text/x-python",
   "name": "python",
   "nbconvert_exporter": "python",
   "pygments_lexer": "ipython3",
   "version": "3.12.3"
  }
 },
 "nbformat": 4,
 "nbformat_minor": 5
}
